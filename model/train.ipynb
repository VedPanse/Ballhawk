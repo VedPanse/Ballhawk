{
 "cells": [
  {
   "cell_type": "markdown",
   "id": "de308f16-aff6-4a8c-9fc7-7b70235c3326",
   "metadata": {},
   "source": [
    "# Imports"
   ]
  },
  {
   "cell_type": "code",
   "execution_count": 1,
   "id": "e085578c-b0d7-43f3-9f59-5a96f26e808b",
   "metadata": {},
   "outputs": [],
   "source": [
    "import pandas as pd\n",
    "import numpy as np\n",
    "import requests\n",
    "from pybaseball import statcast_batter, playerid_lookup\n",
    "from PIL import Image\n",
    "from io import BytesIO\n",
    "import matplotlib.pyplot as plt\n",
    "from scipy.stats import gaussian_kde\n",
    "import time\n",
    "from datetime import datetime, timedelta"
   ]
  },
  {
   "cell_type": "markdown",
   "id": "0d021587-6e17-4ce0-a049-fb69ddae8bd3",
   "metadata": {},
   "source": [
    "# Team Abbreviation Mapping to Team ID"
   ]
  },
  {
   "cell_type": "code",
   "execution_count": 2,
   "id": "18705c2b-ba11-4864-b183-3def24dfa06a",
   "metadata": {},
   "outputs": [],
   "source": [
    "def get_team_id_map():\n",
    "    url = \"https://statsapi.mlb.com/api/v1/teams?sportId=1\"\n",
    "    response = requests.get(url)\n",
    "    data = response.json()\n",
    "    return {team['abbreviation']: team['id'] for team in data['teams']}"
   ]
  },
  {
   "cell_type": "markdown",
   "id": "4dff88ed-1a63-4b30-ab83-24aeb87cd133",
   "metadata": {},
   "source": [
    "# Get active roster\n",
    "Get's the list of players playing"
   ]
  },
  {
   "cell_type": "code",
   "execution_count": 3,
   "id": "cbfba274-9c75-4638-848a-28075ed4e60e",
   "metadata": {},
   "outputs": [],
   "source": [
    "def get_roster(team_abbr, team_id_map=None):\n",
    "    if team_id_map is None:\n",
    "        team_id_map = get_team_id_map()\n",
    "    team_id = team_id_map.get(team_abbr.upper())\n",
    "    if not team_id:\n",
    "        raise ValueError(f\"Invalid team abbreviation: {team_abbr}\")\n",
    "    url = f\"https://statsapi.mlb.com/api/v1/teams/{team_id}/roster/active\"\n",
    "    response = requests.get(url)\n",
    "    return [player['person']['fullName'] for player in response.json()['roster']]"
   ]
  },
  {
   "cell_type": "markdown",
   "id": "7fdca3b5-8077-49ea-82f0-6c05cafa319c",
   "metadata": {},
   "source": [
    "# Estimate Spray Angle"
   ]
  },
  {
   "cell_type": "code",
   "execution_count": 4,
   "id": "ca375f1f-8c3c-408d-8b75-116790e21f20",
   "metadata": {},
   "outputs": [],
   "source": [
    "def estimate_spray_angle(df):\n",
    "    return np.degrees(np.arctan2(df['hc_x'] - 125, 198 - df['hc_y']))"
   ]
  },
  {
   "cell_type": "markdown",
   "id": "7da51638-1b88-456f-a8ef-50587e91f20c",
   "metadata": {},
   "source": [
    "# Predict Homerun Landing"
   ]
  },
  {
   "cell_type": "code",
   "execution_count": 5,
   "id": "a3796a44-8646-489f-ae24-899174200858",
   "metadata": {},
   "outputs": [],
   "source": [
    "def predict_landing_point(launch_speed, launch_angle, spray_angle, distance=None):\n",
    "    angle_rad = np.radians(spray_angle)\n",
    "\n",
    "    if distance is None or pd.isna(distance):\n",
    "        v = launch_speed * 0.44704  # mph to m/s\n",
    "        theta = np.radians(launch_angle)\n",
    "        g = 9.81\n",
    "        range_1D = (v ** 2 * np.sin(2 * theta)) / g\n",
    "        distance = range_1D * 3.28084\n",
    "\n",
    "    distance = max(min(distance, 470), 290)\n",
    "\n",
    "    x = distance * np.sin(angle_rad)\n",
    "    y = distance * np.cos(angle_rad)\n",
    "    return x, y"
   ]
  },
  {
   "cell_type": "markdown",
   "id": "c5d76fdc-9f4f-4b2d-a2d9-16c938c90b31",
   "metadata": {},
   "source": [
    "# Get all HR's from a team"
   ]
  },
  {
   "cell_type": "code",
   "execution_count": 6,
   "id": "e6deec60-e589-440e-a44d-f31982bbe45f",
   "metadata": {},
   "outputs": [],
   "source": [
    "def get_team_home_runs(team_abbr, start=None, end=None):\n",
    "    if end is None:\n",
    "        end = datetime.today().strftime('%Y-%m-%d')\n",
    "    if start is None:\n",
    "        start = (datetime.today() - timedelta(days=365)).strftime('%Y-%m-%d')\n",
    "    \n",
    "    team_id_map = get_team_id_map()\n",
    "    roster = get_roster(team_abbr, team_id_map)\n",
    "    all_hr_rows = []\n",
    "\n",
    "    for name in roster:\n",
    "        try:\n",
    "            first, last = name.split()[-2:]\n",
    "            pid_df = playerid_lookup(last, first)\n",
    "            if pid_df.empty:\n",
    "                continue\n",
    "            pid = pid_df.iloc[0]['key_mlbam']\n",
    "            df = statcast_batter(start, end, player_id=pid)\n",
    "            df = df[df['events'] == 'home_run'].dropna(subset=['launch_speed', 'launch_angle', 'hc_x', 'hc_y']).copy()\n",
    "            if df.empty:\n",
    "                continue\n",
    "            df['player_name'] = name\n",
    "            df['spray_angle_est'] = estimate_spray_angle(df)\n",
    "            all_hr_rows.append(df)\n",
    "            time.sleep(0.5)\n",
    "        except Exception as e:\n",
    "            print(f\"Skipping {name}: {e}\")\n",
    "            continue\n",
    "\n",
    "    if all_hr_rows:\n",
    "        return pd.concat(all_hr_rows, ignore_index=True)\n",
    "    return pd.DataFrame()"
   ]
  },
  {
   "cell_type": "markdown",
   "id": "120378c2-0112-422a-8a1e-ab321d326bc6",
   "metadata": {},
   "source": [
    "# Stadium Diagrams\n",
    "From Andrew Clem's website"
   ]
  },
  {
   "cell_type": "code",
   "execution_count": 7,
   "id": "ca3a4692-0644-4e14-a7c5-219b6eb28f6a",
   "metadata": {},
   "outputs": [],
   "source": [
    "def get_stadium_image_url(stadium_name):\n",
    "    clean_name = stadium_name.replace(\" \", \"\")\n",
    "    return f\"http://www.andrewclem.com/Baseball/Diag/{clean_name}.gif\"\n",
    "\n",
    "def get_stadium_image(url):\n",
    "    response = requests.get(url)\n",
    "    img = Image.open(BytesIO(response.content)).convert('RGBA')\n",
    "    return np.array(img)"
   ]
  },
  {
   "cell_type": "markdown",
   "id": "06dc153a",
   "metadata": {},
   "source": [
    "# Ensure seat prediction"
   ]
  },
  {
   "cell_type": "code",
   "execution_count": 8,
   "id": "2d8aca9c",
   "metadata": {},
   "outputs": [],
   "source": [
    "def is_seat_color(rgb):\n",
    "    r, g, b = rgb[:3]\n",
    "\n",
    "    # ----- Exclude invalid areas -----\n",
    "    # Exclude green (grass and batter's eye)\n",
    "    if (60 <= r <= 140 and 140 <= g <= 200 and 60 <= b <= 140):\n",
    "        return False\n",
    "\n",
    "    # Exclude gray/concrete\n",
    "    if abs(r - g) < 10 and abs(g - b) < 10 and 100 <= r <= 180:\n",
    "        return False\n",
    "\n",
    "    # ----- Include valid seating zones -----\n",
    "    # Yellow - Lower deck\n",
    "    is_yellow = (210 <= r <= 255) and (180 <= g <= 230) and (50 <= b <= 120)\n",
    "\n",
    "    # Orange - Middle deck\n",
    "    is_orange = (200 <= r <= 255) and (120 <= g <= 180) and (0 <= b <= 80)\n",
    "\n",
    "    # Pink - Upper deck\n",
    "    is_pink = (220 <= r <= 255) and (130 <= g <= 180) and (130 <= b <= 200)\n",
    "\n",
    "    return is_yellow or is_orange or is_pink\n"
   ]
  },
  {
   "cell_type": "markdown",
   "id": "89fc9222-2e82-4096-99a1-36ad5d8cefe1",
   "metadata": {},
   "source": [
    "# Visualize Stadium"
   ]
  },
  {
   "cell_type": "code",
   "execution_count": 9,
   "id": "5e7c5d67-5e16-4bcf-a979-03ed186648b6",
   "metadata": {},
   "outputs": [],
   "source": [
    "def plot_home_runs_on_stadium(stadium_name, team_home_runs):\n",
    "    url = get_stadium_image_url(stadium_name)\n",
    "    img = get_stadium_image(url)\n",
    "    img_rgb = img[:, :, :3]\n",
    "\n",
    "    extent = [-200, 200, 0, 450]\n",
    "\n",
    "    team_home_runs[['x', 'y']] = team_home_runs.apply(\n",
    "        lambda row: predict_landing_point(\n",
    "            row['launch_speed'], row['launch_angle'], row['spray_angle_est'], row.get('hit_distance_sc')\n",
    "        ),\n",
    "        axis=1, result_type='expand'\n",
    "    )\n",
    "\n",
    "    team_home_runs = team_home_runs[team_home_runs['y'] <= 450]\n",
    "    x = team_home_runs['x']\n",
    "    y = team_home_runs['y']\n",
    "\n",
    "    mask = (x >= -200) & (x <= 200) & (y >= 0) & (y <= 450)\n",
    "    x = x[mask]\n",
    "    y = y[mask]\n",
    "\n",
    "    # KDE\n",
    "    xy = np.vstack([x, y])\n",
    "    kde = gaussian_kde(xy)\n",
    "    density = kde(xy)\n",
    "\n",
    "    top_idxs = np.argsort(density)[::-1][:100]\n",
    "    x_vals, y_vals = x.to_numpy(), y.to_numpy()\n",
    "\n",
    "    best_x, best_y = None, None\n",
    "    fallback_x, fallback_y = x_vals[top_idxs[0]], y_vals[top_idxs[0]]  # fallback to densest point\n",
    "\n",
    "    for idx in top_idxs:\n",
    "        x_val, y_val = x_vals[idx], y_vals[idx]\n",
    "\n",
    "        # 🛑 Skip batter’s eye zone (green rectangle)\n",
    "        if -30 <= x_val <= 30 and 390 <= y_val <= 440:\n",
    "            continue\n",
    "\n",
    "        img_x = int((x_val - extent[0]) / (extent[1] - extent[0]) * img.shape[1])\n",
    "        img_y = int((1 - (y_val - extent[2]) / (extent[3] - extent[2])) * img.shape[0])\n",
    "\n",
    "        if 0 <= img_x < img.shape[1] and 0 <= img_y < img.shape[0]:\n",
    "            rgb = img_rgb[img_y, img_x]\n",
    "            if is_seat_color(rgb):\n",
    "                best_x, best_y = x_val, y_val\n",
    "                print(f\"[DEBUG] Seat pixel found at ({img_x},{img_y}) with RGB {rgb}\")\n",
    "                break\n",
    "            else:\n",
    "                print(f\"[DEBUG] Skipped non-seat pixel at ({img_x},{img_y}) with RGB {rgb}\")\n",
    "\n",
    "    if best_x is None or best_y is None:\n",
    "        print(\"[WARNING] No seat-colored pixels found in top 100 hits. Falling back to densest KDE point.\")\n",
    "        best_x, best_y = fallback_x, fallback_y\n",
    "\n",
    "    # Plot result\n",
    "    plt.figure(figsize=(10, 10))\n",
    "    plt.imshow(img, extent=extent)\n",
    "    plt.scatter(best_x, best_y, c='blue', s=100, label='Best Seat Zone')\n",
    "    plt.title(f\"Best Seat Zone at {stadium_name}\")\n",
    "    plt.xlabel(\"Feet (x)\")\n",
    "    plt.ylabel(\"Feet (y)\")\n",
    "    plt.gca().set_aspect('equal')\n",
    "    plt.legend()\n",
    "    plt.show()\n"
   ]
  },
  {
   "cell_type": "markdown",
   "id": "44e98a31-4d54-4e81-aa4b-9ab63eb846c9",
   "metadata": {},
   "source": [
    "# Main Pipeline"
   ]
  },
  {
   "cell_type": "code",
   "execution_count": 10,
   "id": "e5698328-0251-4de9-8ba4-f1ab57051fad",
   "metadata": {},
   "outputs": [
    {
     "name": "stdout",
     "output_type": "stream",
     "text": [
      "Fetching home run data for NYM...\n",
      "Gathering player lookup table. This may take a moment.\n",
      "Gathering Player Data\n",
      "Gathering Player Data\n",
      "Gathering Player Data\n",
      "Gathering Player Data\n",
      "Gathering Player Data\n",
      "Gathering Player Data\n",
      "Gathering Player Data\n",
      "Gathering Player Data\n",
      "Gathering Player Data\n",
      "Gathering Player Data\n",
      "Gathering Player Data\n",
      "Gathering Player Data\n",
      "Gathering Player Data\n",
      "Gathering Player Data\n",
      "Gathering Player Data\n",
      "Gathering Player Data\n",
      "Gathering Player Data\n",
      "Gathering Player Data\n",
      "Gathering Player Data\n",
      "Gathering Player Data\n",
      "Gathering Player Data\n",
      "Gathering Player Data\n",
      "Gathering Player Data\n",
      "Gathering Player Data\n",
      "Gathering Player Data\n",
      "Gathering Player Data\n",
      "Fetching home run data for TOR...\n",
      "Gathering Player Data\n",
      "Gathering Player Data\n",
      "Gathering Player Data\n",
      "Gathering Player Data\n",
      "Gathering Player Data\n",
      "Gathering Player Data\n",
      "Gathering Player Data\n",
      "Gathering Player Data\n",
      "Gathering Player Data\n",
      "Gathering Player Data\n",
      "Gathering Player Data\n",
      "Gathering Player Data\n",
      "Gathering Player Data\n",
      "Gathering Player Data\n",
      "Gathering Player Data\n",
      "Gathering Player Data\n",
      "Gathering Player Data\n",
      "Gathering Player Data\n",
      "Gathering Player Data\n",
      "Gathering Player Data\n",
      "Gathering Player Data\n",
      "Gathering Player Data\n",
      "Gathering Player Data\n"
     ]
    },
    {
     "ename": "UnidentifiedImageError",
     "evalue": "cannot identify image file <_io.BytesIO object at 0x169ad8c20>",
     "output_type": "error",
     "traceback": [
      "\u001b[31m---------------------------------------------------------------------------\u001b[39m",
      "\u001b[31mUnidentifiedImageError\u001b[39m                    Traceback (most recent call last)",
      "\u001b[36mCell\u001b[39m\u001b[36m \u001b[39m\u001b[32mIn[10]\u001b[39m\u001b[32m, line 11\u001b[39m\n\u001b[32m      8\u001b[39m team2_hr = get_team_home_runs(team2)\n\u001b[32m     10\u001b[39m team_home_runs = pd.concat([team1_hr, team2_hr], ignore_index=\u001b[38;5;28;01mTrue\u001b[39;00m)\n\u001b[32m---> \u001b[39m\u001b[32m11\u001b[39m \u001b[43mplot_home_runs_on_stadium\u001b[49m\u001b[43m(\u001b[49m\u001b[43mstadium\u001b[49m\u001b[43m,\u001b[49m\u001b[43m \u001b[49m\u001b[43mteam_home_runs\u001b[49m\u001b[43m)\u001b[49m\n",
      "\u001b[36mCell\u001b[39m\u001b[36m \u001b[39m\u001b[32mIn[9]\u001b[39m\u001b[32m, line 3\u001b[39m, in \u001b[36mplot_home_runs_on_stadium\u001b[39m\u001b[34m(stadium_name, team_home_runs)\u001b[39m\n\u001b[32m      1\u001b[39m \u001b[38;5;28;01mdef\u001b[39;00m\u001b[38;5;250m \u001b[39m\u001b[34mplot_home_runs_on_stadium\u001b[39m(stadium_name, team_home_runs):\n\u001b[32m      2\u001b[39m     url = get_stadium_image_url(stadium_name)\n\u001b[32m----> \u001b[39m\u001b[32m3\u001b[39m     img = \u001b[43mget_stadium_image\u001b[49m\u001b[43m(\u001b[49m\u001b[43murl\u001b[49m\u001b[43m)\u001b[49m\n\u001b[32m      4\u001b[39m     img_rgb = img[:, :, :\u001b[32m3\u001b[39m]\n\u001b[32m      6\u001b[39m     extent = [-\u001b[32m200\u001b[39m, \u001b[32m200\u001b[39m, \u001b[32m0\u001b[39m, \u001b[32m450\u001b[39m]\n",
      "\u001b[36mCell\u001b[39m\u001b[36m \u001b[39m\u001b[32mIn[7]\u001b[39m\u001b[32m, line 7\u001b[39m, in \u001b[36mget_stadium_image\u001b[39m\u001b[34m(url)\u001b[39m\n\u001b[32m      5\u001b[39m \u001b[38;5;28;01mdef\u001b[39;00m\u001b[38;5;250m \u001b[39m\u001b[34mget_stadium_image\u001b[39m(url):\n\u001b[32m      6\u001b[39m     response = requests.get(url)\n\u001b[32m----> \u001b[39m\u001b[32m7\u001b[39m     img = \u001b[43mImage\u001b[49m\u001b[43m.\u001b[49m\u001b[43mopen\u001b[49m\u001b[43m(\u001b[49m\u001b[43mBytesIO\u001b[49m\u001b[43m(\u001b[49m\u001b[43mresponse\u001b[49m\u001b[43m.\u001b[49m\u001b[43mcontent\u001b[49m\u001b[43m)\u001b[49m\u001b[43m)\u001b[49m.convert(\u001b[33m'\u001b[39m\u001b[33mRGBA\u001b[39m\u001b[33m'\u001b[39m)\n\u001b[32m      8\u001b[39m     \u001b[38;5;28;01mreturn\u001b[39;00m np.array(img)\n",
      "\u001b[36mFile \u001b[39m\u001b[32m/Volumes/Extreme SSD/Ballhawk/model/.venv/lib/python3.12/site-packages/PIL/Image.py:3580\u001b[39m, in \u001b[36mopen\u001b[39m\u001b[34m(fp, mode, formats)\u001b[39m\n\u001b[32m   3578\u001b[39m     warnings.warn(message)\n\u001b[32m   3579\u001b[39m msg = \u001b[33m\"\u001b[39m\u001b[33mcannot identify image file \u001b[39m\u001b[38;5;132;01m%r\u001b[39;00m\u001b[33m\"\u001b[39m % (filename \u001b[38;5;28;01mif\u001b[39;00m filename \u001b[38;5;28;01melse\u001b[39;00m fp)\n\u001b[32m-> \u001b[39m\u001b[32m3580\u001b[39m \u001b[38;5;28;01mraise\u001b[39;00m UnidentifiedImageError(msg)\n",
      "\u001b[31mUnidentifiedImageError\u001b[39m: cannot identify image file <_io.BytesIO object at 0x169ad8c20>"
     ]
    }
   ],
   "source": [
    "team1: str = input(\"Abbreviation of team 1 (Eg. PIT): \")\n",
    "team2 = input(\"Abbreviation of team2 (Eg. SD): \")\n",
    "stadium = input(\"Stadium Name: \")\n",
    "\n",
    "print(f\"Fetching home run data for {team1}...\")\n",
    "team1_hr = get_team_home_runs(team1)\n",
    "print(f\"Fetching home run data for {team2}...\")\n",
    "team2_hr = get_team_home_runs(team2)\n",
    "\n",
    "team_home_runs = pd.concat([team1_hr, team2_hr], ignore_index=True)\n",
    "plot_home_runs_on_stadium(stadium, team_home_runs)"
   ]
  },
  {
   "cell_type": "code",
   "execution_count": null,
   "id": "9da03c67",
   "metadata": {},
   "outputs": [],
   "source": []
  }
 ],
 "metadata": {
  "kernelspec": {
   "display_name": ".venv",
   "language": "python",
   "name": "python3"
  },
  "language_info": {
   "codemirror_mode": {
    "name": "ipython",
    "version": 3
   },
   "file_extension": ".py",
   "mimetype": "text/x-python",
   "name": "python",
   "nbconvert_exporter": "python",
   "pygments_lexer": "ipython3",
   "version": "3.12.5"
  }
 },
 "nbformat": 4,
 "nbformat_minor": 5
}
