{
 "cells": [
  {
   "cell_type": "markdown",
   "id": "31ab5742-f8fb-45e9-ab67-57cafec0930f",
   "metadata": {},
   "source": []
  },
  {
   "cell_type": "markdown",
   "id": "de308f16-aff6-4a8c-9fc7-7b70235c3326",
   "metadata": {},
   "source": [
    "# Imports"
   ]
  },
  {
   "cell_type": "code",
   "execution_count": 1,
   "id": "e085578c-b0d7-43f3-9f59-5a96f26e808b",
   "metadata": {},
   "outputs": [],
   "source": [
    "# 🧹 Imports\n",
    "import pandas as pd\n",
    "import numpy as np\n",
    "import requests\n",
    "from pybaseball import statcast_batter, playerid_lookup\n",
    "from PIL import Image\n",
    "from io import BytesIO\n",
    "import matplotlib.pyplot as plt\n",
    "from scipy.stats import gaussian_kde\n",
    "import time\n",
    "from datetime import datetime, timedelta\n",
    "\n",
    "# -----------------------------------------\n",
    "# 2. Get Active Roster from Team Abbreviation\n",
    "# -----------------------------------------\n",
    "\n",
    "\n",
    "# -----------------------------------------\n",
    "# 3. Estimate Spray Angle from Statcast X/Y\n",
    "# -----------------------------------------\n",
    "\n",
    "\n",
    "# -----------------------------------------\n",
    "# 4. Predict HR Landing (Using Distance or Physics)\n",
    "# -----------------------------------------\n",
    "\n",
    "# -----------------------------------------\n",
    "# 5. Get All HRs for a Team (Last 1 Year)\n",
    "# -----------------------------------------\n",
    "\n",
    "# -----------------------------------------\n",
    "# 6. Get Stadium Diagram from Andrew Clem\n",
    "# -----------------------------------------\n",
    "\n",
    "# -----------------------------------------\n",
    "# 7. Visualize Stadium + Predicted HRs + Best Seat\n",
    "# -----------------------------------------\n",
    "\n",
    "\n",
    "# -----------------------------------------\n",
    "# 8. 🟢 Main: Run Full Pipeline\n",
    "# -----------------------------------------\n"
   ]
  },
  {
   "cell_type": "markdown",
   "id": "0d021587-6e17-4ce0-a049-fb69ddae8bd3",
   "metadata": {},
   "source": [
    "# Team Abbreviation Mapping to Team ID"
   ]
  },
  {
   "cell_type": "code",
   "execution_count": 2,
   "id": "18705c2b-ba11-4864-b183-3def24dfa06a",
   "metadata": {},
   "outputs": [],
   "source": [
    "def get_team_id_map():\n",
    "    url = \"https://statsapi.mlb.com/api/v1/teams?sportId=1\"\n",
    "    response = requests.get(url)\n",
    "    data = response.json()\n",
    "    return {team['abbreviation']: team['id'] for team in data['teams']}"
   ]
  },
  {
   "cell_type": "markdown",
   "id": "4dff88ed-1a63-4b30-ab83-24aeb87cd133",
   "metadata": {},
   "source": [
    "# Get active roster\n",
    "Get's the list of players playing"
   ]
  },
  {
   "cell_type": "code",
   "execution_count": 3,
   "id": "cbfba274-9c75-4638-848a-28075ed4e60e",
   "metadata": {},
   "outputs": [],
   "source": [
    "def get_roster(team_abbr, team_id_map=None):\n",
    "    if team_id_map is None:\n",
    "        team_id_map = get_team_id_map()\n",
    "    team_id = team_id_map.get(team_abbr.upper())\n",
    "    if not team_id:\n",
    "        raise ValueError(f\"Invalid team abbreviation: {team_abbr}\")\n",
    "    url = f\"https://statsapi.mlb.com/api/v1/teams/{team_id}/roster/active\"\n",
    "    response = requests.get(url)\n",
    "    return [player['person']['fullName'] for player in response.json()['roster']]"
   ]
  },
  {
   "cell_type": "markdown",
   "id": "7fdca3b5-8077-49ea-82f0-6c05cafa319c",
   "metadata": {},
   "source": [
    "# Estimate Spray Angle"
   ]
  },
  {
   "cell_type": "code",
   "execution_count": 4,
   "id": "ca375f1f-8c3c-408d-8b75-116790e21f20",
   "metadata": {},
   "outputs": [],
   "source": [
    "def estimate_spray_angle(df):\n",
    "    return np.degrees(np.arctan2(df['hc_x'] - 125, 198 - df['hc_y']))"
   ]
  },
  {
   "cell_type": "markdown",
   "id": "7da51638-1b88-456f-a8ef-50587e91f20c",
   "metadata": {},
   "source": [
    "# Predict Homerun Landing"
   ]
  },
  {
   "cell_type": "code",
   "execution_count": 5,
   "id": "a3796a44-8646-489f-ae24-899174200858",
   "metadata": {},
   "outputs": [],
   "source": [
    "def predict_landing_point(launch_speed, launch_angle, spray_angle, distance=None):\n",
    "    angle_rad = np.radians(spray_angle)\n",
    "\n",
    "    if distance is None or pd.isna(distance):\n",
    "        v = launch_speed * 0.44704  # mph to m/s\n",
    "        theta = np.radians(launch_angle)\n",
    "        g = 9.81\n",
    "        range_1D = (v ** 2 * np.sin(2 * theta)) / g\n",
    "        distance = range_1D * 3.28084\n",
    "\n",
    "    distance = max(min(distance, 470), 290)\n",
    "\n",
    "    x = distance * np.sin(angle_rad)\n",
    "    y = distance * np.cos(angle_rad)\n",
    "    return x, y"
   ]
  },
  {
   "cell_type": "markdown",
   "id": "c5d76fdc-9f4f-4b2d-a2d9-16c938c90b31",
   "metadata": {},
   "source": [
    "# Get all HR's from a team"
   ]
  },
  {
   "cell_type": "code",
   "execution_count": 6,
   "id": "e6deec60-e589-440e-a44d-f31982bbe45f",
   "metadata": {},
   "outputs": [],
   "source": [
    "def get_team_home_runs(team_abbr, start=None, end=None):\n",
    "    if end is None:\n",
    "        end = datetime.today().strftime('%Y-%m-%d')\n",
    "    if start is None:\n",
    "        start = (datetime.today() - timedelta(days=365)).strftime('%Y-%m-%d')\n",
    "    \n",
    "    team_id_map = get_team_id_map()\n",
    "    roster = get_roster(team_abbr, team_id_map)\n",
    "    all_hr_rows = []\n",
    "\n",
    "    for name in roster:\n",
    "        try:\n",
    "            first, last = name.split()[-2:]\n",
    "            pid_df = playerid_lookup(last, first)\n",
    "            if pid_df.empty:\n",
    "                continue\n",
    "            pid = pid_df.iloc[0]['key_mlbam']\n",
    "            df = statcast_batter(start, end, player_id=pid)\n",
    "            df = df[df['events'] == 'home_run'].dropna(subset=['launch_speed', 'launch_angle', 'hc_x', 'hc_y']).copy()\n",
    "            if df.empty:\n",
    "                continue\n",
    "            df['player_name'] = name\n",
    "            df['spray_angle_est'] = estimate_spray_angle(df)\n",
    "            all_hr_rows.append(df)\n",
    "            time.sleep(0.5)\n",
    "        except Exception as e:\n",
    "            print(f\"Skipping {name}: {e}\")\n",
    "            continue\n",
    "\n",
    "    if all_hr_rows:\n",
    "        return pd.concat(all_hr_rows, ignore_index=True)\n",
    "    return pd.DataFrame()"
   ]
  },
  {
   "cell_type": "markdown",
   "id": "120378c2-0112-422a-8a1e-ab321d326bc6",
   "metadata": {},
   "source": [
    "# Stadium Diagrams\n",
    "From Andrew Clem's website"
   ]
  },
  {
   "cell_type": "code",
   "execution_count": 7,
   "id": "ca3a4692-0644-4e14-a7c5-219b6eb28f6a",
   "metadata": {},
   "outputs": [],
   "source": [
    "def get_stadium_image_url(stadium_name):\n",
    "    clean_name = stadium_name.replace(\" \", \"\")\n",
    "    return f\"http://www.andrewclem.com/Baseball/Diag/{clean_name}.gif\"\n",
    "\n",
    "def get_stadium_image(url):\n",
    "    response = requests.get(url)\n",
    "    img = Image.open(BytesIO(response.content)).convert('RGBA')\n",
    "    return np.array(img)\n",
    "\n",
    "def is_seat_color(rgb):\n",
    "    r, g, b = map(int, rgb[:3])  # avoid overflow\n",
    "\n",
    "    # Exclude grass green\n",
    "    if 80 <= r <= 140 and 160 <= g <= 200 and 80 <= b <= 140:\n",
    "        return False\n",
    "\n",
    "    # Exclude gray concrete\n",
    "    if abs(r - g) < 10 and abs(g - b) < 10 and 100 <= r <= 180:\n",
    "        return False\n",
    "\n",
    "    # Include yellow/orange/red/pink seating\n",
    "    if 200 <= r <= 255 and 100 <= g <= 255 and 80 <= b <= 180:\n",
    "        return True\n",
    "\n",
    "    return False"
   ]
  },
  {
   "cell_type": "markdown",
   "id": "89fc9222-2e82-4096-99a1-36ad5d8cefe1",
   "metadata": {},
   "source": [
    "# Visualize Stadium"
   ]
  },
  {
   "cell_type": "code",
   "execution_count": 8,
   "id": "5e7c5d67-5e16-4bcf-a979-03ed186648b6",
   "metadata": {},
   "outputs": [],
   "source": [
    "def plot_home_runs_on_stadium(stadium_name, team_home_runs):\n",
    "    url = get_stadium_image_url(stadium_name)\n",
    "    img = get_stadium_image(url)\n",
    "    img_rgb = img[:, :, :3]\n",
    "\n",
    "    extent = [-200, 200, 0, 450]\n",
    "\n",
    "    team_home_runs[['x', 'y']] = team_home_runs.apply(\n",
    "        lambda row: predict_landing_point(\n",
    "            row['launch_speed'], row['launch_angle'], row['spray_angle_est'], row.get('hit_distance_sc')\n",
    "        ),\n",
    "        axis=1, result_type='expand'\n",
    "    )\n",
    "\n",
    "    team_home_runs = team_home_runs[team_home_runs['y'] <= 450]\n",
    "    x = team_home_runs['x']\n",
    "    y = team_home_runs['y']\n",
    "\n",
    "    mask = (x >= -200) & (x <= 200) & (y >= 0) & (y <= 450)\n",
    "    x = x[mask]\n",
    "    y = y[mask]\n",
    "\n",
    "    # KDE\n",
    "    xy = np.vstack([x, y])\n",
    "    kde = gaussian_kde(xy)\n",
    "    density = kde(xy)\n",
    "\n",
    "    top_idxs = np.argsort(density)[::-1][:100]\n",
    "    x_vals, y_vals = x.to_numpy(), y.to_numpy()\n",
    "\n",
    "    best_x, best_y = None, None\n",
    "    for idx in top_idxs:\n",
    "        x_val, y_val = x_vals[idx], y_vals[idx]\n",
    "\n",
    "        # 🛑 Skip batter’s eye zone (green rectangle)\n",
    "        if -30 <= x_val <= 30 and 390 <= y_val <= 440:\n",
    "            continue\n",
    "\n",
    "        img_x = int((x_val - extent[0]) / (extent[1] - extent[0]) * img.shape[1])\n",
    "        img_y = int((1 - (y_val - extent[2]) / (extent[3] - extent[2])) * img.shape[0])\n",
    "\n",
    "        if 0 <= img_x < img.shape[1] and 0 <= img_y < img.shape[0]:\n",
    "            rgb = img_rgb[img_y, img_x]\n",
    "            if is_seat_color(rgb):\n",
    "                best_x, best_y = x_val, y_val\n",
    "                break\n",
    "\n",
    "    if best_x is None or best_y is None:\n",
    "        best_x, best_y = 0, 400  # fallback\n",
    "\n",
    "    # Plot result\n",
    "    plt.figure(figsize=(10, 10))\n",
    "    plt.imshow(img, extent=extent)\n",
    "    plt.scatter(best_x, best_y, c='blue', s=100, label='Best Seat Zone')\n",
    "    plt.title(f\"Best Seat Zone at {stadium_name}\")\n",
    "    plt.xlabel(\"Feet (x)\")\n",
    "    plt.ylabel(\"Feet (y)\")\n",
    "    plt.gca().set_aspect('equal')\n",
    "    plt.legend()\n",
    "    plt.show()"
   ]
  },
  {
   "cell_type": "markdown",
   "id": "44e98a31-4d54-4e81-aa4b-9ab63eb846c9",
   "metadata": {},
   "source": [
    "# Main Pipeline"
   ]
  },
  {
   "cell_type": "code",
   "execution_count": null,
   "id": "e5698328-0251-4de9-8ba4-f1ab57051fad",
   "metadata": {},
   "outputs": [],
   "source": [
    "team1: str = input(\"Abbreviation of team 1 (Eg. PIT): \")\n",
    "team2 = input(\"Abbreviation of team2 (Eg. SD): \")\n",
    "stadium = input(\"Stadium Name: \")\n",
    "\n",
    "print(f\"Fetching home run data for {team1}...\")\n",
    "team1_hr = get_team_home_runs(team1)\n",
    "print(f\"Fetching home run data for {team2}...\")\n",
    "team2_hr = get_team_home_runs(team2)\n",
    "\n",
    "team_home_runs = pd.concat([team1_hr, team2_hr], ignore_index=True)\n",
    "plot_home_runs_on_stadium(stadium, team_home_runs)"
   ]
  },
  {
   "cell_type": "code",
   "execution_count": null,
   "id": "3f489958-1da0-49d2-af3b-3cc29e2360b5",
   "metadata": {},
   "outputs": [],
   "source": []
  },
  {
   "cell_type": "code",
   "execution_count": null,
   "id": "fd410f49-8ad5-4c17-9236-b6340a35203a",
   "metadata": {},
   "outputs": [],
   "source": []
  },
  {
   "cell_type": "code",
   "execution_count": null,
   "id": "03c647eb-b241-42d9-b626-5b10de7eedb8",
   "metadata": {},
   "outputs": [],
   "source": []
  }
 ],
 "metadata": {
  "kernelspec": {
   "display_name": "Python (Ballhawk)",
   "language": "python",
   "name": "ballhawk"
  },
  "language_info": {
   "codemirror_mode": {
    "name": "ipython",
    "version": 3
   },
   "file_extension": ".py",
   "mimetype": "text/x-python",
   "name": "python",
   "nbconvert_exporter": "python",
   "pygments_lexer": "ipython3",
   "version": "3.12.5"
  }
 },
 "nbformat": 4,
 "nbformat_minor": 5
}
