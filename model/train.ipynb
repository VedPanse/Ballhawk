{
 "cells": [
  {
   "cell_type": "markdown",
   "id": "aa5dec6b",
   "metadata": {},
   "source": [
    "# Assemble data\n",
    "Put the data needed together about teams and players"
   ]
  },
  {
   "cell_type": "markdown",
   "id": "a6d671b6",
   "metadata": {},
   "source": [
    "# Stadium\n",
    "Get and render images of the stadium"
   ]
  },
  {
   "cell_type": "markdown",
   "id": "cbdcc09d",
   "metadata": {},
   "source": [
    "# Predict\n",
    "Predict where the ball will land on the stadium after knowing every stadium's dimensions.\n",
    "Pick the spot with the most density of balls predicted to land"
   ]
  },
  {
   "cell_type": "markdown",
   "id": "9853c20e",
   "metadata": {},
   "source": [
    "# Plot\n",
    "Plot exactly on the stadium the seat that the user should buy"
   ]
  },
  {
   "cell_type": "markdown",
   "id": "190329e5",
   "metadata": {},
   "source": []
  }
 ],
 "metadata": {
  "kernelspec": {
   "display_name": "Python 3",
   "language": "python",
   "name": "python3"
  },
  "language_info": {
   "name": "python",
   "version": "3.13.3"
  }
 },
 "nbformat": 4,
 "nbformat_minor": 5
}
